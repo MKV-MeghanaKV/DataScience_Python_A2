{
 "cells": [
  {
   "cell_type": "markdown",
   "id": "7e03a465",
   "metadata": {},
   "source": [
    "## Assignment 2\n",
    "   "
   ]
  },
  {
   "cell_type": "markdown",
   "id": "ab32d9f5",
   "metadata": {},
   "source": [
    "#####  1.What are the two values of the Boolean data type? How do you write them?\n",
    "   Two values of Boolean data type are True and False.It starts with capital letter like True,False.By evaluating boolean expression we will get Boolean values.\n",
    "   See below examples:\n",
    "   "
   ]
  },
  {
   "cell_type": "code",
   "execution_count": 23,
   "id": "7c11a0fc",
   "metadata": {},
   "outputs": [
    {
     "name": "stdout",
     "output_type": "stream",
     "text": [
      "True\n"
     ]
    }
   ],
   "source": [
    "print(2<3)"
   ]
  },
  {
   "cell_type": "code",
   "execution_count": 24,
   "id": "00d0af0a",
   "metadata": {},
   "outputs": [
    {
     "name": "stdout",
     "output_type": "stream",
     "text": [
      "False\n"
     ]
    }
   ],
   "source": [
    "print(5>8)"
   ]
  },
  {
   "cell_type": "markdown",
   "id": "96aab4e2",
   "metadata": {},
   "source": [
    "##### 2.What are the three different types of Boolean operators?\n",
    "   \n",
    "   And,Or,Not are three different types of Boolean operators.\n",
    "   Ex- see below\n",
    "  "
   ]
  },
  {
   "cell_type": "code",
   "execution_count": 25,
   "id": "38b636f5",
   "metadata": {},
   "outputs": [
    {
     "data": {
      "text/plain": [
       "True"
      ]
     },
     "execution_count": 25,
     "metadata": {},
     "output_type": "execute_result"
    }
   ],
   "source": [
    "(25>5) and (6<8) #Gives True value if both the expression is True"
   ]
  },
  {
   "cell_type": "code",
   "execution_count": 26,
   "id": "655d30e7",
   "metadata": {},
   "outputs": [
    {
     "data": {
      "text/plain": [
       "False"
      ]
     },
     "execution_count": 26,
     "metadata": {},
     "output_type": "execute_result"
    }
   ],
   "source": [
    "(26>5) and (6<5)#Gives False value if one of the expression is False"
   ]
  },
  {
   "cell_type": "code",
   "execution_count": 3,
   "id": "9bce2b07",
   "metadata": {},
   "outputs": [
    {
     "data": {
      "text/plain": [
       "True"
      ]
     },
     "execution_count": 3,
     "metadata": {},
     "output_type": "execute_result"
    }
   ],
   "source": [
    "(25>5) or (6<8) #Gives True value if one of the expression is True "
   ]
  },
  {
   "cell_type": "code",
   "execution_count": 2,
   "id": "f61a9361",
   "metadata": {},
   "outputs": [
    {
     "data": {
      "text/plain": [
       "True"
      ]
     },
     "execution_count": 2,
     "metadata": {},
     "output_type": "execute_result"
    }
   ],
   "source": [
    "(26>5) or (6<5)#Gives True value if one of the expression is True"
   ]
  },
  {
   "cell_type": "code",
   "execution_count": 1,
   "id": "da4529e2",
   "metadata": {},
   "outputs": [
    {
     "data": {
      "text/plain": [
       "False"
      ]
     },
     "execution_count": 1,
     "metadata": {},
     "output_type": "execute_result"
    }
   ],
   "source": [
    "not(6==6)#Gives False value if one of the expression is True viceversa."
   ]
  },
  {
   "cell_type": "markdown",
   "id": "c8c1d057",
   "metadata": {},
   "source": [
    "##### 3.Make a list of each Boolean operator's truth tables (i.e. every possible combination of Boolean values for the operator and what it evaluate )."
   ]
  },
  {
   "attachments": {
    "Booleanoperators.png": {
     "image/png": "[encoded data removed]"
    }
   },
   "cell_type": "markdown",
   "id": "2609d141",
   "metadata": {},
   "source": [
    "![Booleanoperators.png](attachment:Booleanoperators.png)"
   ]
  },
  {
   "cell_type": "markdown",
   "id": "f47d9f95",
   "metadata": {},
   "source": [
    "##### 4.What are the values of the following expressions? \n",
    "\n",
    "(5 > 4) and (3 == 5) -False (3 is not equal to 5)\n",
    "\n",
    "not (5 > 4) -False\n",
    "\n",
    "(5 > 4) or (3 == 5) -True (5>4 gives True value )\n",
    "\n",
    "not ((5 > 4) or (3 == 5)) - False\n",
    "\n",
    "(True and True) and (True == False) - False\n",
    "\n",
    "(not False) or (not True) - True"
   ]
  },
  {
   "cell_type": "markdown",
   "id": "fc4e61fa",
   "metadata": {},
   "source": [
    "##### 5.What are the six comparison operators?\n",
    "  \n",
    "  (>) - Greater than\n",
    "  \n",
    "  < - less than\n",
    "  \n",
    "  (>=) - Greater than or equal to\n",
    "  \n",
    "  <= - Less than or equal to\n",
    "  \n",
    "  == - equal to\n",
    "  \n",
    "  != - not equal to\n",
    "  "
   ]
  },
  {
   "cell_type": "markdown",
   "id": "15d298b5",
   "metadata": {},
   "source": [
    "##### 6.How do you tell the difference between the equal to and assignment operators?Describe a condition and when you would use one.\n",
    " \n",
    " Assignment operator(=) is used for assigning the value on right to a variable on left.\n",
    " \n",
    " Equal to(==) is a comparision operator which compares both values in right and left and gives boolean value.\n",
    " \n",
    " Ex-"
   ]
  },
  {
   "cell_type": "code",
   "execution_count": 27,
   "id": "5b86bdca",
   "metadata": {},
   "outputs": [
    {
     "data": {
      "text/plain": [
       "True"
      ]
     },
     "execution_count": 27,
     "metadata": {},
     "output_type": "execute_result"
    }
   ],
   "source": [
    "a=5 #assignment operator\n",
    "b=5\n",
    "a==b#equalto operator\n"
   ]
  },
  {
   "cell_type": "code",
   "execution_count": 28,
   "id": "cacd43aa",
   "metadata": {},
   "outputs": [
    {
     "ename": "SyntaxError",
     "evalue": "cannot assign to literal (Temp/ipykernel_4824/1480905010.py, line 1)",
     "output_type": "error",
     "traceback": [
      "\u001b[1;36m  File \u001b[1;32m\"C:\\Users\\MEGHANA\\AppData\\Local\\Temp/ipykernel_4824/1480905010.py\"\u001b[1;36m, line \u001b[1;32m1\u001b[0m\n\u001b[1;33m    1=2#invalid value cannot be placed in left while using assignment operator\u001b[0m\n\u001b[1;37m    ^\u001b[0m\n\u001b[1;31mSyntaxError\u001b[0m\u001b[1;31m:\u001b[0m cannot assign to literal\n"
     ]
    }
   ],
   "source": [
    "1=2#invalid value cannot be placed in left while using assignment operator"
   ]
  },
  {
   "cell_type": "code",
   "execution_count": 29,
   "id": "c0ffa718",
   "metadata": {},
   "outputs": [
    {
     "data": {
      "text/plain": [
       "True"
      ]
     },
     "execution_count": 29,
     "metadata": {},
     "output_type": "execute_result"
    }
   ],
   "source": [
    "7==7#valid value can be placed in left while using comparision operator"
   ]
  },
  {
   "cell_type": "markdown",
   "id": "2aec004f",
   "metadata": {},
   "source": [
    "##### 7.Identify the three blocks in this code: \n",
    "\n",
    "spam = 0 \n",
    "\n",
    "if spam == 10:\n",
    "\n",
    "\n",
    "print('eggs') \n",
    "\n",
    "if spam > 5:\n",
    "\n",
    "print('bacon')\n",
    "\n",
    "else: \n",
    "\n",
    "print('ham')\n",
    "\n",
    "print('spam') \n",
    "\n",
    "print('spam')\n",
    "\n",
    "Two if blocks  and  one else block are there"
   ]
  },
  {
   "cell_type": "code",
   "execution_count": 30,
   "id": "40437df0",
   "metadata": {},
   "outputs": [
    {
     "name": "stdout",
     "output_type": "stream",
     "text": [
      "ham\n",
      "spam\n",
      "spam\n"
     ]
    }
   ],
   "source": [
    "spam = 0 \n",
    "\n",
    "if spam == 10:\n",
    "\n",
    "\n",
    "    print('eggs') \n",
    "\n",
    "if spam > 5:\n",
    "\n",
    "    print('bacon')\n",
    "\n",
    "else: \n",
    "\n",
    "    print('ham')\n",
    "\n",
    "    print('spam') \n",
    "\n",
    "    print('spam')"
   ]
  },
  {
   "cell_type": "markdown",
   "id": "5af83187",
   "metadata": {},
   "source": [
    "##### 8.Write code that prints Hello if 1 is stored in spam, prints Howdy if 2 is stored in spam, and prints Greetings! if anything else is stored in spam.\n",
    "\n"
   ]
  },
  {
   "cell_type": "code",
   "execution_count": 31,
   "id": "17f1bf31",
   "metadata": {},
   "outputs": [
    {
     "name": "stdout",
     "output_type": "stream",
     "text": [
      "1\n",
      "Hello\n"
     ]
    }
   ],
   "source": [
    "spam=int(input())\n",
    "if spam==1:\n",
    "    print(\"Hello\")\n",
    "elif spam==2:\n",
    "    print(\"Howdy\")\n",
    "else:\n",
    "    print(\"Greetings!\")"
   ]
  },
  {
   "cell_type": "code",
   "execution_count": 21,
   "id": "4b0c4d13",
   "metadata": {},
   "outputs": [
    {
     "name": "stdout",
     "output_type": "stream",
     "text": [
      "2\n",
      "Howdy\n"
     ]
    }
   ],
   "source": [
    "spam=int(input())\n",
    "if spam==1:\n",
    "    print(\"Hello\")\n",
    "elif spam==2:\n",
    "    print(\"Howdy\")\n",
    "else:\n",
    "    print(\"Greetings!\")"
   ]
  },
  {
   "cell_type": "code",
   "execution_count": 22,
   "id": "d02b0570",
   "metadata": {},
   "outputs": [
    {
     "name": "stdout",
     "output_type": "stream",
     "text": [
      "5\n",
      "Greetings!\n"
     ]
    }
   ],
   "source": [
    "spam=int(input())\n",
    "if spam==1:\n",
    "    print(\"Hello\")\n",
    "elif spam==2:\n",
    "    print(\"Howdy\")\n",
    "else:\n",
    "    print(\"Greetings!\")"
   ]
  },
  {
   "cell_type": "markdown",
   "id": "d77a1b8c",
   "metadata": {},
   "source": [
    "9.If your programme is stuck in an endless loop, what keys you’ll press?\n",
    "10. How can you tell the difference between break and continue?\n",
    "11. In a for loop, what is the difference between range(10), range(0, 10), and range(0, 10, 1)?\n",
    "12. Write a short program that prints the numbers 1 to 10 using a for loop. Then write an equivalent\n",
    "program that prints the numbers 1 to 10 using a while loop.\n",
    "13. If you had a function named bacon() inside a module named spam, how would you call it after importing spam?"
   ]
  },
  {
   "cell_type": "markdown",
   "id": "27cc7eb4",
   "metadata": {},
   "source": [
    "##### 9.If your programme is stuck in an endless loop, what keys you’ll press?\n",
    " Press CTRL + C then it gives key interrupt error."
   ]
  },
  {
   "cell_type": "markdown",
   "id": "c182ccec",
   "metadata": {},
   "source": [
    "##### 10. How can you tell the difference between break and continue?"
   ]
  },
  {
   "cell_type": "markdown",
   "id": "12bafe60",
   "metadata": {},
   "source": [
    "Break:Break statement is used to exit from the loop.It terminates the whole iteration of a loop.\n",
    "Continue:Continue is used to not to exit from the loop.It skips the current iteration.\n",
    "\n",
    "See Example below:\n"
   ]
  },
  {
   "cell_type": "code",
   "execution_count": 5,
   "id": "0912a74a",
   "metadata": {},
   "outputs": [
    {
     "name": "stdout",
     "output_type": "stream",
     "text": [
      "DataScience\n"
     ]
    }
   ],
   "source": [
    "a=\"DataScience\"\n",
    "for sci in a:\n",
    "    print(a)\n",
    "    break"
   ]
  },
  {
   "cell_type": "code",
   "execution_count": 6,
   "id": "6114f465",
   "metadata": {},
   "outputs": [
    {
     "name": "stdout",
     "output_type": "stream",
     "text": [
      "DataScience\n",
      "DataScience\n",
      "DataScience\n",
      "DataScience\n",
      "DataScience\n",
      "DataScience\n",
      "DataScience\n",
      "DataScience\n",
      "DataScience\n",
      "DataScience\n",
      "DataScience\n"
     ]
    }
   ],
   "source": [
    "a=\"DataScience\"\n",
    "for sci in a:\n",
    "    print(a)\n",
    "    continue"
   ]
  },
  {
   "cell_type": "markdown",
   "id": "694ab150",
   "metadata": {},
   "source": [
    "##### 11. In a for loop, what is the difference between range(10), range(0, 10), and range(0, 10, 1)?"
   ]
  },
  {
   "cell_type": "code",
   "execution_count": 7,
   "id": "a6127854",
   "metadata": {},
   "outputs": [
    {
     "name": "stdout",
     "output_type": "stream",
     "text": [
      "0\n",
      "1\n",
      "2\n",
      "3\n",
      "4\n",
      "5\n",
      "6\n",
      "7\n",
      "8\n",
      "9\n"
     ]
    }
   ],
   "source": [
    "for n in range(10):\n",
    "    print(n)"
   ]
  },
  {
   "cell_type": "code",
   "execution_count": 8,
   "id": "8f55734e",
   "metadata": {},
   "outputs": [
    {
     "name": "stdout",
     "output_type": "stream",
     "text": [
      "0\n",
      "1\n",
      "2\n",
      "3\n",
      "4\n",
      "5\n",
      "6\n",
      "7\n",
      "8\n",
      "9\n"
     ]
    }
   ],
   "source": [
    "for n in range(0,10):\n",
    "    print(n)"
   ]
  },
  {
   "cell_type": "code",
   "execution_count": 9,
   "id": "6d95a713",
   "metadata": {},
   "outputs": [
    {
     "name": "stdout",
     "output_type": "stream",
     "text": [
      "0\n",
      "1\n",
      "2\n",
      "3\n",
      "4\n",
      "5\n",
      "6\n",
      "7\n",
      "8\n",
      "9\n"
     ]
    }
   ],
   "source": [
    "for n in range(0,10,1):\n",
    "    print(n)"
   ]
  },
  {
   "cell_type": "markdown",
   "id": "cdb62034",
   "metadata": {},
   "source": [
    "As we see above output of range(10),range(0,10),range(0,10,1) are same.\n",
    "range(10)- By default lower bound value is 0 and step value is 1.\n",
    "range(0,10)-By default step value is 1.\n"
   ]
  },
  {
   "cell_type": "markdown",
   "id": "0973a4b0",
   "metadata": {},
   "source": [
    "##### 12. Write a short program that prints the numbers 1 to 10 using a for loop. Then write an equivalent program that prints the numbers 1 to 10 using a while loop."
   ]
  },
  {
   "cell_type": "code",
   "execution_count": 10,
   "id": "a1764926",
   "metadata": {},
   "outputs": [
    {
     "name": "stdout",
     "output_type": "stream",
     "text": [
      "1\n",
      "2\n",
      "3\n",
      "4\n",
      "5\n",
      "6\n",
      "7\n",
      "8\n",
      "9\n",
      "10\n"
     ]
    }
   ],
   "source": [
    "for n in range(1,11,1):\n",
    "    print(n)"
   ]
  },
  {
   "cell_type": "code",
   "execution_count": 11,
   "id": "6c3775e8",
   "metadata": {},
   "outputs": [
    {
     "name": "stdout",
     "output_type": "stream",
     "text": [
      "1\n",
      "2\n",
      "3\n",
      "4\n",
      "5\n",
      "6\n",
      "7\n",
      "8\n",
      "9\n",
      "10\n"
     ]
    }
   ],
   "source": [
    "n=1\n",
    "while n<11:\n",
    "    print(n)\n",
    "    n+=1"
   ]
  },
  {
   "cell_type": "markdown",
   "id": "17074a48",
   "metadata": {},
   "source": [
    "##### 13. If you had a function named bacon() inside a module named spam, how would you call it after importing spam?"
   ]
  },
  {
   "cell_type": "code",
   "execution_count": null,
   "id": "31bb3b58",
   "metadata": {},
   "outputs": [],
   "source": [
    "from spam import bacon"
   ]
  }
 ],
 "metadata": {
  "kernelspec": {
   "display_name": "Python 3 (ipykernel)",
   "language": "python",
   "name": "python3"
  },
  "language_info": {
   "codemirror_mode": {
    "name": "ipython",
    "version": 3
   },
   "file_extension": ".py",
   "mimetype": "text/x-python",
   "name": "python",
   "nbconvert_exporter": "python",
   "pygments_lexer": "ipython3",
   "version": "3.9.7"
  }
 },
 "nbformat": 4,
 "nbformat_minor": 5
}
